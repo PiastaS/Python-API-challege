{
 "cells": [
  {
   "cell_type": "markdown",
   "metadata": {},
   "source": [
    "# WeatherPy\n",
    "----\n",
    "\n",
    "#### Note\n",
    "* Instructions have been included for each segment. You do not have to follow them exactly, but they are included to help you think through the steps."
   ]
  },
  {
   "cell_type": "code",
   "execution_count": null,
   "metadata": {},
   "outputs": [],
   "source": [
    "!pip install citipy"
   ]
  },
  {
   "cell_type": "code",
   "execution_count": null,
   "metadata": {},
   "outputs": [],
   "source": [
    "!pip install requests"
   ]
  },
  {
   "cell_type": "code",
   "execution_count": null,
   "metadata": {
    "scrolled": true
   },
   "outputs": [],
   "source": [
    "# Dependencies and Setup\n",
    "import matplotlib.pyplot as plt\n",
    "import pandas as pd\n",
    "import numpy as np\n",
    "import requests\n",
    "import time\n",
    "from scipy.stats import linregress\n",
    "import scipy.stats as st\n",
    "from scipy import stats\n",
    "\n",
    "# Import API key\n",
    "from api_keys import weather_api_key\n",
    "\n",
    "# Incorporated citipy to determine city based on latitude and longitude\n",
    "from citipy import citipy\n",
    "\n",
    "# Output File (CSV)\n",
    "output_data_file = \"../Resources/cities.csv\"\n",
    "\n",
    "# Range of latitudes and longitudes\n",
    "lat_range = (-90, 90)\n",
    "lng_range = (-180, 180)"
   ]
  },
  {
   "cell_type": "code",
   "execution_count": null,
   "metadata": {},
   "outputs": [],
   "source": []
  },
  {
   "cell_type": "markdown",
   "metadata": {},
   "source": [
    "## Generate Cities List"
   ]
  },
  {
   "cell_type": "code",
   "execution_count": null,
   "metadata": {},
   "outputs": [],
   "source": [
    "# List for holding lat_lngs and cities\n",
    "lat_lngs = []\n",
    "cities = []\n",
    "\n",
    "# Create a set of random lat and lng combinations\n",
    "lats = np.random.uniform(low=-90.000, high=90.000, size=1500)\n",
    "lngs = np.random.uniform(low=-180.000, high=180.000, size=1500)\n",
    "lat_lngs = zip(lats, lngs)\n",
    "\n",
    "# Identify nearest city for each lat, lng combination\n",
    "for lat_lng in lat_lngs:\n",
    "    city = citipy.nearest_city(lat_lng[0], lat_lng[1]).city_name\n",
    "    \n",
    "    # If the city is unique, then add it to a our cities list\n",
    "    if city not in cities:\n",
    "        cities.append(city)\n",
    "\n",
    "# Print the city count to confirm sufficient count\n",
    "lat_lngs_list = list(lat_lngs)\n",
    "#len(cities)\n",
    "print(len(cities))"
   ]
  },
  {
   "cell_type": "markdown",
   "metadata": {
    "tags": []
   },
   "source": [
    "### Perform API Calls\n",
    "* Perform a weather check on each city using a series of successive API calls.\n",
    "* Include a print log of each city as it'sbeing processed (with the city number and city name).\n"
   ]
  },
  {
   "cell_type": "code",
   "execution_count": null,
   "metadata": {
    "scrolled": true
   },
   "outputs": [],
   "source": [
    "#getweatherdata\n",
    "\n",
    "city_list=[]\n",
    "lat = []\n",
    "long = []\n",
    "temp = []\n",
    "max_temp = []\n",
    "humidity = []\n",
    "cloudiness = []\n",
    "wind_speed = []\n",
    "country = []\n",
    "date = []\n",
    "\n",
    "\n",
    "rcd = 0\n",
    "sets = 1\n",
    "city_weather = []\n",
    "\n",
    "url = \"http://api.openweathermap.org/data/2.5/weather?\"\n",
    "query_url = f\"{url}appid={weather_api_key}&units=imperial&q=\""
   ]
  },
  {
   "cell_type": "code",
   "execution_count": null,
   "metadata": {},
   "outputs": [],
   "source": [
    "#Print Beginning Log Statement\n",
    "\n",
    "print(\n",
    "    f'Beginning Data Retrieval\\n'     \n",
    "f'-----------------------------')\n",
    "\n",
    "for city in cities:\n",
    "    \n",
    "    try: \n",
    "        weather_response = requests.get(query_url + city)\n",
    "        weather_json = weather_response.json() \n",
    "        print(f'Processing Record {rcd} of Set {sets} | {city}')\n",
    "        lat.append(json_response['coord']['lat'])\n",
    "        long.append(json_response[\"coord\"][\"lon\"])\n",
    "        temp.append(json_response['main']['temp'])\n",
    "        max_temp.append(json_response['main']['temp_max'])\n",
    "        wind_speed.append(json_response['wind']['speed'])\n",
    "        humidity.append(json_response['main']['humidity'])\n",
    "        cloudiness.append(json_response['clouds']['all'])\n",
    "        wind_speed.append(json_response['wind']['speed'])\n",
    "        country.append(json_response['sys']['country'])\n",
    "        date.append(json_response[\"dt\"])\n",
    "        rcd += 1\n",
    "\n",
    "        if rcd == 50:\n",
    "            rcd = 0\n",
    "            sets += 1 \n",
    "            \n",
    "# If an error is experienced, skip the city\n",
    "    except: (ValueError,IOError) \n",
    "    print(\"City not found. Skipping...\") \n",
    "    pass\n",
    "    \n",
    "    continue\n",
    "    \n",
    "# Print Ending Log Statement\n",
    "print(f\"-------------------------------\")\n",
    "print(f\"Data Retrieval Complete\")\n",
    "print(f\"-------------------------------\")"
   ]
  },
  {
   "cell_type": "markdown",
   "metadata": {},
   "source": [
    "### Convert Raw Data to DataFrame\n",
    "* Export the city data into a .csv.\n",
    "* Display the DataFrame"
   ]
  },
  {
   "cell_type": "code",
   "execution_count": null,
   "metadata": {},
   "outputs": [],
   "source": [
    "weather_dataframe = {\n",
    "    \"City\": cities, \n",
    "    \"Lat\": lat,\n",
    "    \"Lng\": long, \n",
    "    \"Temp\": temp,\n",
    "    \"Max Temp\": max_temp,\n",
    "    \"Humidity\": humidity,\n",
    "    \"Cloudiness\": cloudiness,\n",
    "    \"Wind Speed\": wind_speed,\n",
    "    \"Country\": country\n",
    "}\n",
    "\n",
    "weather_data = pd.DataFrame(weather_dataframe)"
   ]
  },
  {
   "cell_type": "code",
   "execution_count": null,
   "metadata": {},
   "outputs": [],
   "source": [
    "#Windows desktop path\n",
    "weather_data.to_csv(\"cities.csv\", index = False)\n",
    "weather_data"
   ]
  },
  {
   "cell_type": "code",
   "execution_count": null,
   "metadata": {},
   "outputs": [],
   "source": [
    "len(cities), len(lat), len(long), len(temp), len(max_temp), len(humidity), len(cloudiness), len(wind_speed), len(country)"
   ]
  },
  {
   "cell_type": "markdown",
   "metadata": {},
   "source": [
    "## Inspect the data and remove the cities where the humidity > 100%.\n",
    "----\n",
    "Skip this step if there are no cities that have humidity > 100%. "
   ]
  },
  {
   "cell_type": "code",
   "execution_count": null,
   "metadata": {},
   "outputs": [],
   "source": [
    "badHumidityDF = weather_data[(weather_data['Humidity'] > 100)]\n",
    "badHumidityDF"
   ]
  },
  {
   "cell_type": "code",
   "execution_count": null,
   "metadata": {},
   "outputs": [],
   "source": [
    "#  Get the indices of cities that have humidity over 100%.\n",
    "badHumidityDF.index"
   ]
  },
  {
   "cell_type": "code",
   "execution_count": null,
   "metadata": {},
   "outputs": [],
   "source": [
    "# Make a new DataFrame equal to the city data to drop all humidity outliers by index.\n",
    "# Passing \"inplace=False\" will make a copy of the city_data DataFrame, which we call \"clean_city_data\".\n"
   ]
  },
  {
   "cell_type": "code",
   "execution_count": null,
   "metadata": {},
   "outputs": [],
   "source": [
    "clean_city_data = weather_data.drop(weather_data[weather_data['Humidity'] < 15].index, inplace = False)\n",
    "clean_city_data"
   ]
  },
  {
   "cell_type": "code",
   "execution_count": null,
   "metadata": {},
   "outputs": [],
   "source": [
    "# Extract relevant fields from the data frame\n",
    "City_Data = weather_data['City','Country', 'Latitude', 'Temperature', 'Humidity', 'Cloudiness', 'Windspeed', 'Date']\n",
    "\n",
    "# Export the City_Data into a csv\n",
    "#Windows path\n",
    "City_Data.to_csv(r'../Resources/cities.csv', index = False)\n",
    "City_Data.head()"
   ]
  },
  {
   "cell_type": "markdown",
   "metadata": {},
   "source": [
    "## Plotting the Data\n",
    "* Use proper labeling of the plots using plot titles (including date of analysis) and axes labels.\n",
    "* Save the plotted figures as .pngs."
   ]
  },
  {
   "cell_type": "markdown",
   "metadata": {},
   "source": [
    "## Latitude vs. Temperature Plot"
   ]
  },
  {
   "cell_type": "code",
   "execution_count": null,
   "metadata": {
    "scrolled": true
   },
   "outputs": [],
   "source": [
    " # Build a scatter plot for each data type\n",
    "plt.scatter(clean_city_data[\"Lat\"], clean_city_data[\"Max Temp\"], marker=\"o\")\n",
    "\n",
    "# Incorporate the other graph properties\n",
    "plt.title(\"City Latitude vs. Max Temperature (05/28/2019)\")\n",
    "plt.ylabel(\"Max Temperature (F)\")\n",
    "plt.xlabel(\"Latitude\")\n",
    "plt.grid(True)\n",
    "\n",
    "# Save the figure\n",
    "plt.savefig('MaxTempPerLat.png')\n",
    "\n",
    "# Show plot\n",
    "plt.show()"
   ]
  },
  {
   "cell_type": "markdown",
   "metadata": {},
   "source": [
    "## Latitude vs. Humidity Plot"
   ]
  },
  {
   "cell_type": "code",
   "execution_count": null,
   "metadata": {},
   "outputs": [],
   "source": [
    " # Build a scatter plot for each data type\n",
    "plt.scatter(clean_city_data[\"Lat\"], clean_city_data[\"Humidity\"], marker=\"o\")\n",
    "\n",
    "# Incorporate the other graph properties\n",
    "plt.title(\"City Latitude vs. Humidity (05/28/2019)\")\n",
    "plt.ylabel(\"Humidity (%)\")\n",
    "plt.xlabel(\"Latitude\")\n",
    "plt.grid(True)\n",
    "\n",
    "# Save the figure\n",
    "plt.savefig('HumidityPerLat.png')\n",
    "\n",
    "# Show plot\n",
    "plt.show()"
   ]
  },
  {
   "cell_type": "markdown",
   "metadata": {},
   "source": [
    "## Latitude vs. Cloudiness Plot"
   ]
  },
  {
   "cell_type": "code",
   "execution_count": null,
   "metadata": {},
   "outputs": [],
   "source": [
    " # Build a scatter plot for each data type\n",
    "plt.scatter(clean_city_data[\"Lat\"], clean_city_data[\"Cloudiness\"], marker=\"o\")\n",
    "\n",
    "# Incorporate the other graph properties\n",
    "plt.title(\"City Latitude vs. Cloudiness (05/28/2019)\")\n",
    "plt.ylabel(\"Cloudiness (%)\")\n",
    "plt.xlabel(\"Latitude\")\n",
    "plt.grid(True)\n",
    "\n",
    "# Save the figure\n",
    "plt.savefig('CloudinessPerLat.png')\n",
    "\n",
    "# Show plot\n",
    "plt.show()"
   ]
  },
  {
   "cell_type": "markdown",
   "metadata": {},
   "source": [
    "## Latitude vs. Wind Speed Plot"
   ]
  },
  {
   "cell_type": "code",
   "execution_count": null,
   "metadata": {},
   "outputs": [],
   "source": [
    " # Build a scatter plot for each data type\n",
    "plt.scatter(clean_city_data[\"Lat\"], clean_city_data[\"Wind Speed\"], marker=\"o\")\n",
    "\n",
    "# Incorporate the other graph properties\n",
    "plt.title(\"City Latitude vs. Wind Speed (05/28/2019)\")\n",
    "plt.ylabel(\"Wind Speed (mph)\")\n",
    "plt.xlabel(\"Latitude\")\n",
    "plt.grid(True)\n",
    "\n",
    "# Save the figure\n",
    "plt.savefig('WindSpeedPerLat.png')\n",
    "\n",
    "# Show plot\n",
    "plt.show()"
   ]
  },
  {
   "cell_type": "markdown",
   "metadata": {},
   "source": [
    "## Linear Regression"
   ]
  },
  {
   "cell_type": "code",
   "execution_count": null,
   "metadata": {},
   "outputs": [],
   "source": [
    "#Seperate plots into Northern hemisphere (greater than or equal to 0 degrees latitdue) and Southern hemisphere (less than 0 degrees latitude)\n",
    "southern_df = clean_city_data.drop(clean_city_data[clean_city_data['Lat'] >= 0].index, inplace = False)\n",
    "northern_df = clean_city_data.drop(clean_city_data[clean_city_data['Lat'] < 0].index, inplace = False)"
   ]
  },
  {
   "cell_type": "markdown",
   "metadata": {},
   "source": [
    "####  Northern Hemisphere - Max Temp vs. Latitude Linear Regression"
   ]
  },
  {
   "cell_type": "code",
   "execution_count": null,
   "metadata": {},
   "outputs": [],
   "source": [
    "# Build a scatter plot for each data type\n",
    "plt.scatter(northern_df[\"Lat\"], northern_df[\"Max Temp\"], marker=\"o\")\n",
    "\n",
    "# Incorporate the other graph properties\n",
    "plt.title(\"Northern Hemisphere - Max Temp vs. Latitude Linear Regression (05/28/2019)\")\n",
    "plt.ylabel(\"Max Temperature (F)\")\n",
    "plt.xlabel(\"Latitude\")\n",
    "plt.grid(True)\n",
    "\n",
    "#perform a linear regression model \n",
    "(slope, intercept, rvalue, pvalue, stderr) = stats.linregress(northern_df[\"Lat\"], northern_df[\"Max Temp\"])\n",
    "\n",
    "#LinReg and plot line \n",
    "test1_df = northern_df[\"Lat\"]\n",
    "test2_df = northern_df[\"Max Temp\"]\n",
    "\n",
    "model = st.linregress(test1_df,test2_df)\n",
    "y_values = test1_df*model[0]+model[1]\n",
    "plt.plot(test1_df, y_values, color ='r')\n",
    "\n",
    "#get regression values\n",
    "regress_values = northern_df[\"Lat\"] + slope + intercept\n",
    "print(regress_values)\n",
    "\n",
    "line_eq = \"y = \" + str(round(slope, 2)) + \"x +\" + str(round(intercept, 2))\n",
    "print(line_eq)\n",
    "\n",
    "# Save the figure\n",
    "plt.savefig('NorthernMaxTempPerLat.png')\n",
    "\n",
    "#show figure\n",
    "plt.show()\n",
    "\n",
    "#Determine R Value \n",
    "print(f\"The r-value is {rvalue}.\")"
   ]
  },
  {
   "cell_type": "markdown",
   "metadata": {},
   "source": [
    "####  Southern Hemisphere - Max Temp vs. Latitude Linear Regression"
   ]
  },
  {
   "cell_type": "code",
   "execution_count": null,
   "metadata": {},
   "outputs": [],
   "source": [
    " # Build a scatter plot for each data type\n",
    "plt.scatter(southern_df[\"Lat\"], southern_df[\"Max Temp\"], marker=\"o\")\n",
    "\n",
    "# Incorporate the other graph properties\n",
    "plt.title(\"Southern Hemisphere - Max Temp vs. Latitude Linear Regression (05/28/2019)\")\n",
    "plt.ylabel(\"Max Temperature (F)\")\n",
    "plt.xlabel(\"Latitude\")\n",
    "plt.grid(True)\n",
    "\n",
    "#perform a linear regression model \n",
    "(slope, intercept, rvalue, pvalue, stderr) = stats.linregress(southern_df[\"Lat\"], southern_df[\"Max Temp\"])\n",
    "\n",
    "#LinReg and plot line \n",
    "test3_df = southern_df[\"Lat\"]\n",
    "test4_df = southern_df[\"Max Temp\"]\n",
    "\n",
    "model = st.linregress(test3_df,test4_df)\n",
    "y_values = test3_df*model[0]+model[1]\n",
    "plt.plot(test3_df, y_values, color ='r')\n",
    "\n",
    "#get regression values\n",
    "regress_values = southern_df[\"Lat\"] + slope + intercept\n",
    "print(regress_values)\n",
    "\n",
    "line_eq = \"y = \" + str(round(slope, 2)) + \"x +\" + str(round(intercept, 2))\n",
    "print(line_eq)\n",
    "\n",
    "# Save the figure\n",
    "plt.savefig('SouthernMaxTempPerLat.png')\n",
    "\n",
    "# Show plot\n",
    "plt.show()\n",
    "\n",
    "#Determine R Value \n",
    "print(f\"The r-value is {rvalue}.\")"
   ]
  },
  {
   "cell_type": "markdown",
   "metadata": {},
   "source": [
    "####  Northern Hemisphere - Humidity (%) vs. Latitude Linear Regression"
   ]
  },
  {
   "cell_type": "code",
   "execution_count": null,
   "metadata": {},
   "outputs": [],
   "source": [
    "# Build a scatter plot for each data type\n",
    "plt.scatter(northern_df[\"Lat\"], northern_df[\"Humidity\"], marker=\"o\")\n",
    "\n",
    "# Incorporate the other graph properties\n",
    "plt.title(\"Northern Hemisphere - Humidity (%) vs. Latitude Linear Regression (05/28/2019)\")\n",
    "plt.ylabel(\"Humidity (%)\")\n",
    "plt.xlabel(\"Latitude\")\n",
    "plt.grid(True)\n",
    "\n",
    "#perform a linear regression model \n",
    "(slope, intercept, rvalue, pvalue, stderr) = stats.linregress(northern_df[\"Lat\"], northern_df[\"Humidity\"])\n",
    "\n",
    "#LinReg and plot line \n",
    "test5_df = northern_df[\"Lat\"]\n",
    "test6_df = northern_df[\"Humidity\"]\n",
    "\n",
    "model = st.linregress(test5_df,test6_df)\n",
    "y_values = test5_df*model[0]+model[1]\n",
    "plt.plot(test1_df, y_values, color ='r')\n",
    "\n",
    "#get regression values\n",
    "regress_values = northern_df[\"Lat\"] + slope + intercept\n",
    "print(regress_values)\n",
    "\n",
    "line_eq = \"y = \" + str(round(slope, 2)) + \"x +\" + str(round(intercept, 2))\n",
    "print(line_eq)\n",
    "\n",
    "#Determine R Value \n",
    "print(f\"The r-value is {rvalue}.\")\n",
    "\n",
    "# Save the figure\n",
    "plt.savefig('NorthernHumidityPerLat.png')\n",
    "\n",
    "# Show plot\n",
    "plt.show()"
   ]
  },
  {
   "cell_type": "markdown",
   "metadata": {},
   "source": [
    "####  Southern Hemisphere - Humidity (%) vs. Latitude Linear Regression"
   ]
  },
  {
   "cell_type": "code",
   "execution_count": null,
   "metadata": {},
   "outputs": [],
   "source": [
    " # Build a scatter plot for each data type\n",
    "plt.scatter(southern_df[\"Lat\"], southern_df[\"Humidity\"], marker=\"o\")\n",
    "\n",
    "# Incorporate the other graph properties\n",
    "plt.title(\"Southern Hemisphere - Humidity (%) vs. Latitude Linear Regression (05/28/2019)\")\n",
    "plt.ylabel(\"Humidity (%)\")\n",
    "plt.xlabel(\"Latitude\")\n",
    "plt.grid(True)\n",
    "\n",
    "#perform a linear regression model \n",
    "(slope, intercept, rvalue, pvalue, stderr) = stats.linregress(southern_df[\"Lat\"], southern_df[\"Humidity\"])\n",
    "\n",
    "#LinReg and plot line \n",
    "test7_df = southern_df[\"Lat\"]\n",
    "test8_df = southern_df[\"Humidity\"]\n",
    "\n",
    "model = st.linregress(test7_df,test8_df)\n",
    "y_values = test7_df*model[0]+model[1]\n",
    "plt.plot(test7_df, y_values, color ='r')\n",
    "\n",
    "#get regression values\n",
    "regress_values = southern_df[\"Lat\"] + slope + intercept\n",
    "print(regress_values)\n",
    "\n",
    "line_eq = \"y = \" + str(round(slope, 2)) + \"x +\" + str(round(intercept, 2))\n",
    "print(line_eq)\n",
    "\n",
    "# Save the figure\n",
    "plt.savefig('SouthernHumidityPerLat.png')\n",
    "\n",
    "# Show plot\n",
    "plt.show()\n",
    "\n",
    "#Determine R Value \n",
    "print(f\"The r-value is {rvalue}.\")"
   ]
  },
  {
   "cell_type": "markdown",
   "metadata": {},
   "source": [
    "####  Northern Hemisphere - Cloudiness (%) vs. Latitude Linear Regression"
   ]
  },
  {
   "cell_type": "code",
   "execution_count": null,
   "metadata": {},
   "outputs": [],
   "source": [
    " # Build a scatter plot for each data type\n",
    "plt.scatter(northern_df[\"Lat\"], northern_df[\"Cloudiness\"], marker=\"o\")\n",
    "\n",
    "# Incorporate the other graph properties\n",
    "plt.title(\"Northern Hemisphere - Cloudiness (%) vs. Latitude Linear Regression (05/28/2019)\")\n",
    "plt.ylabel(\"Cloudiness (%)\")\n",
    "plt.xlabel(\"Latitude\")\n",
    "plt.grid(True)\n",
    "\n",
    "#LinReg and plot line \n",
    "test9_df = northern_df[\"Lat\"]\n",
    "test10_df = northern_df[\"Cloudiness\"]\n",
    "\n",
    "model = st.linregress(test9_df,test10_df)\n",
    "y_values = test9_df*model[0]+model[1]\n",
    "plt.plot(test9_df, y_values, color ='r')\n",
    "\n",
    "#perform a linear regression model \n",
    "(slope, intercept, rvalue, pvalue, stderr) = stats.linregress(northern_df[\"Lat\"], northern_df[\"Cloudiness\"])\n",
    "\n",
    "#get regression values\n",
    "regress_values = northern_df[\"Lat\"] + slope + intercept\n",
    "print(regress_values)\n",
    "\n",
    "line_eq = \"y = \" + str(round(slope, 2)) + \"x +\" + str(round(intercept, 2))\n",
    "print(line_eq)\n",
    "\n",
    "#Determine R Value \n",
    "print(f\"The r-value is {rvalue}.\")\n",
    "\n",
    "# Save the figure\n",
    "plt.savefig('NorthernCloudinessPerLat.png')\n",
    "\n",
    "# Show plot\n",
    "plt.show()"
   ]
  },
  {
   "cell_type": "markdown",
   "metadata": {},
   "source": [
    "####  Southern Hemisphere - Cloudiness (%) vs. Latitude Linear Regression"
   ]
  },
  {
   "cell_type": "code",
   "execution_count": null,
   "metadata": {},
   "outputs": [],
   "source": [
    "# Build a scatter plot for each data type\n",
    "plt.scatter(southern_df[\"Lat\"], southern_df[\"Cloudiness\"], marker=\"o\")\n",
    "\n",
    "# Incorporate the other graph properties\n",
    "plt.title(\"Southern Hemisphere - Cloudiness (%) vs. Latitude Linear Regression (05/28/2019)\")\n",
    "plt.ylabel(\"Cloudiness (%)\")\n",
    "plt.xlabel(\"Latitude\")\n",
    "plt.grid(True)\n",
    "\n",
    "#LinReg and plot line \n",
    "test11_df = southern_df[\"Lat\"]\n",
    "test12_df = southern_df[\"Cloudiness\"]\n",
    "\n",
    "model = st.linregress(test11_df,test12_df)\n",
    "y_values = test11_df*model[0]+model[1]\n",
    "plt.plot(test11_df, y_values, color ='r')\n",
    "\n",
    "#perform a linear regression model \n",
    "(slope, intercept, rvalue, pvalue, stderr) = stats.linregress(southern_df[\"Lat\"], southern_df[\"Cloudiness\"])\n",
    "\n",
    "#get regression values\n",
    "regress_values = southern_df[\"Lat\"] + slope + intercept\n",
    "print(regress_values)\n",
    "\n",
    "line_eq = \"y = \" + str(round(slope, 2)) + \"x +\" + str(round(intercept, 2))\n",
    "print(line_eq)\n",
    "\n",
    "#Determine R Value \n",
    "print(f\"The r-value is {rvalue}.\")\n",
    "\n",
    "# Save the figure\n",
    "plt.savefig('SouthernCloudinessPerLat.png')\n",
    "\n",
    "# Show plot\n",
    "plt.show()"
   ]
  },
  {
   "cell_type": "markdown",
   "metadata": {},
   "source": [
    "####  Northern Hemisphere - Wind Speed (mph) vs. Latitude Linear Regression"
   ]
  },
  {
   "cell_type": "code",
   "execution_count": null,
   "metadata": {},
   "outputs": [],
   "source": [
    "# Build a scatter plot for each data type\n",
    "plt.scatter(northern_df[\"Lat\"], northern_df[\"Wind Speed\"], marker=\"o\")\n",
    "\n",
    "# Incorporate the other graph properties\n",
    "plt.title(\"Northern Hemisphere - Wind Speed (mph) vs. Latitude Linear Regression (05/28/2019)\")\n",
    "plt.ylabel(\"Wind Speed (mph)\")\n",
    "plt.xlabel(\"Latitude\")\n",
    "plt.grid(True)\n",
    "\n",
    "\n",
    "#LinReg and plot line \n",
    "test13_df = northern_df[\"Lat\"]\n",
    "test14_df = northern_df[\"Wind Speed\"]\n",
    "\n",
    "model = st.linregress(test13_df,test14_df)\n",
    "y_values = test13_df*model[0]+model[1]\n",
    "plt.plot(test13_df, y_values, color ='r')\n",
    "\n",
    "#perform a linear regression model \n",
    "(slope, intercept, rvalue, pvalue, stderr) = stats.linregress(northern_df[\"Lat\"], northern_df[\"Wind Speed\"])\n",
    "\n",
    "#get regression values\n",
    "regress_values = northern_df[\"Lat\"] + slope + intercept\n",
    "print(regress_values)\n",
    "\n",
    "line_eq = \"y = \" + str(round(slope, 2)) + \"x +\" + str(round(intercept, 2))\n",
    "print(line_eq)\n",
    "\n",
    "# Save the figure\n",
    "plt.savefig('NothernWindSpeedPerLat.png')\n",
    "\n",
    "# Show plot\n",
    "plt.show()\n",
    "\n",
    "#Determine R Value \n",
    "print(f\"The r-value is {rvalue}.\")"
   ]
  },
  {
   "cell_type": "markdown",
   "metadata": {},
   "source": [
    "####  Southern Hemisphere - Wind Speed (mph) vs. Latitude Linear Regression"
   ]
  },
  {
   "cell_type": "code",
   "execution_count": null,
   "metadata": {},
   "outputs": [],
   "source": [
    "# Build a scatter plot for each data type\n",
    "plt.scatter(southern_df[\"Lat\"], southern_df[\"Wind Speed\"], marker=\"o\")\n",
    "\n",
    "# Incorporate the other graph properties\n",
    "plt.title(\"Southern Hemisphere - Wind Speed (mph) vs. Latitude Linear Regression (05/28/2019)\")\n",
    "plt.ylabel(\"Wind Speed (mph)\")\n",
    "plt.xlabel(\"Latitude\")\n",
    "plt.grid(True)\n",
    "\n",
    "\n",
    "#LinReg and plot line \n",
    "test15_df = southern_df[\"Lat\"]\n",
    "test16_df = southern_df[\"Wind Speed\"]\n",
    "\n",
    "model = st.linregress(test15_df,test16_df)\n",
    "y_values = test15_df*model[0]+model[1]\n",
    "plt.plot(test15_df, y_values, color ='r')\n",
    "\n",
    "#perform a linear regression model \n",
    "(slope, intercept, rvalue, pvalue, stderr) = stats.linregress(southern_df[\"Lat\"], southern_df[\"Wind Speed\"])\n",
    "\n",
    "#get regression values\n",
    "regress_values = southern_df[\"Lat\"] + slope + intercept\n",
    "print(regress_values)\n",
    "\n",
    "line_eq = \"y = \" + str(round(slope, 2)) + \"x +\" + str(round(intercept, 2))\n",
    "print(line_eq)\n",
    "\n",
    "#Determine R Value \n",
    "print(f\"The r-value is {rvalue}.\")\n",
    "\n",
    "# Save the figure\n",
    "plt.savefig('SouthernWindSpeedPerLat.png')\n",
    "\n",
    "# Show plot\n",
    "plt.show()"
   ]
  },
  {
   "cell_type": "code",
   "execution_count": null,
   "metadata": {},
   "outputs": [],
   "source": []
  }
 ],
 "metadata": {
  "anaconda-cloud": {},
  "kernel_info": {
   "name": "python3"
  },
  "kernelspec": {
   "display_name": "Python 3",
   "language": "python",
   "name": "python3"
  },
  "language_info": {
   "codemirror_mode": {
    "name": "ipython",
    "version": 3
   },
   "file_extension": ".py",
   "mimetype": "text/x-python",
   "name": "python",
   "nbconvert_exporter": "python",
   "pygments_lexer": "ipython3",
   "version": "3.8.8"
  },
  "latex_envs": {
   "LaTeX_envs_menu_present": true,
   "autoclose": false,
   "autocomplete": true,
   "bibliofile": "biblio.bib",
   "cite_by": "apalike",
   "current_citInitial": 1,
   "eqLabelWithNumbers": true,
   "eqNumInitial": 1,
   "hotkeys": {
    "equation": "Ctrl-E",
    "itemize": "Ctrl-I"
   },
   "labels_anchors": false,
   "latex_user_defs": false,
   "report_style_numbering": false,
   "user_envs_cfg": false
  },
  "nteract": {
   "version": "0.12.3"
  }
 },
 "nbformat": 4,
 "nbformat_minor": 4
}
